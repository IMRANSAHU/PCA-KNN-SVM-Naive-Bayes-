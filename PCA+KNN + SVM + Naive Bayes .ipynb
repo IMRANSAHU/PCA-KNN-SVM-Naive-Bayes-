{
 "cells": [
  {
   "cell_type": "code",
   "execution_count": 1,
   "id": "ead23d41",
   "metadata": {},
   "outputs": [],
   "source": [
    "import pandas as pd\n",
    "import matplotlib.pyplot as plt\n",
    "import numpy as np\n",
    "import seaborn as sns"
   ]
  },
  {
   "cell_type": "code",
   "execution_count": 2,
   "id": "453e9a4a",
   "metadata": {},
   "outputs": [],
   "source": [
    "import os\n",
    "\n",
    "# initial directory \n",
    "os.getcwd() \n",
    "os.chdir(r\"C:\\Users\\USER\\Desktop\\imarticus\\machine learning\\Assesment\\KNN + SVM + Naive Bayes + PCA\") "
   ]
  },
  {
   "cell_type": "code",
   "execution_count": 3,
   "id": "a9206e01",
   "metadata": {},
   "outputs": [
    {
     "data": {
      "text/html": [
       "<div>\n",
       "<style scoped>\n",
       "    .dataframe tbody tr th:only-of-type {\n",
       "        vertical-align: middle;\n",
       "    }\n",
       "\n",
       "    .dataframe tbody tr th {\n",
       "        vertical-align: top;\n",
       "    }\n",
       "\n",
       "    .dataframe thead th {\n",
       "        text-align: right;\n",
       "    }\n",
       "</style>\n",
       "<table border=\"1\" class=\"dataframe\">\n",
       "  <thead>\n",
       "    <tr style=\"text-align: right;\">\n",
       "      <th></th>\n",
       "      <th>Alcohol</th>\n",
       "      <th>Malic_Acid</th>\n",
       "      <th>Ash</th>\n",
       "      <th>Ash_Alcanity</th>\n",
       "      <th>Magnesium</th>\n",
       "      <th>Total_Phenols</th>\n",
       "      <th>Flavanoids</th>\n",
       "      <th>Nonflavanoid_Phenols</th>\n",
       "      <th>Proanthocyanins</th>\n",
       "      <th>Color_Intensity</th>\n",
       "      <th>Hue</th>\n",
       "      <th>OD280</th>\n",
       "      <th>Proline</th>\n",
       "      <th>Customer_Segment</th>\n",
       "    </tr>\n",
       "  </thead>\n",
       "  <tbody>\n",
       "    <tr>\n",
       "      <th>0</th>\n",
       "      <td>14.23</td>\n",
       "      <td>1.71</td>\n",
       "      <td>2.43</td>\n",
       "      <td>15.6</td>\n",
       "      <td>127</td>\n",
       "      <td>2.80</td>\n",
       "      <td>3.06</td>\n",
       "      <td>0.28</td>\n",
       "      <td>2.29</td>\n",
       "      <td>5.64</td>\n",
       "      <td>1.04</td>\n",
       "      <td>3.92</td>\n",
       "      <td>1065</td>\n",
       "      <td>1</td>\n",
       "    </tr>\n",
       "    <tr>\n",
       "      <th>1</th>\n",
       "      <td>13.20</td>\n",
       "      <td>1.78</td>\n",
       "      <td>2.14</td>\n",
       "      <td>11.2</td>\n",
       "      <td>100</td>\n",
       "      <td>2.65</td>\n",
       "      <td>2.76</td>\n",
       "      <td>0.26</td>\n",
       "      <td>1.28</td>\n",
       "      <td>4.38</td>\n",
       "      <td>1.05</td>\n",
       "      <td>3.40</td>\n",
       "      <td>1050</td>\n",
       "      <td>1</td>\n",
       "    </tr>\n",
       "    <tr>\n",
       "      <th>2</th>\n",
       "      <td>13.16</td>\n",
       "      <td>2.36</td>\n",
       "      <td>2.67</td>\n",
       "      <td>18.6</td>\n",
       "      <td>101</td>\n",
       "      <td>2.80</td>\n",
       "      <td>3.24</td>\n",
       "      <td>0.30</td>\n",
       "      <td>2.81</td>\n",
       "      <td>5.68</td>\n",
       "      <td>1.03</td>\n",
       "      <td>3.17</td>\n",
       "      <td>1185</td>\n",
       "      <td>1</td>\n",
       "    </tr>\n",
       "    <tr>\n",
       "      <th>3</th>\n",
       "      <td>14.37</td>\n",
       "      <td>1.95</td>\n",
       "      <td>2.50</td>\n",
       "      <td>16.8</td>\n",
       "      <td>113</td>\n",
       "      <td>3.85</td>\n",
       "      <td>3.49</td>\n",
       "      <td>0.24</td>\n",
       "      <td>2.18</td>\n",
       "      <td>7.80</td>\n",
       "      <td>0.86</td>\n",
       "      <td>3.45</td>\n",
       "      <td>1480</td>\n",
       "      <td>1</td>\n",
       "    </tr>\n",
       "    <tr>\n",
       "      <th>4</th>\n",
       "      <td>13.24</td>\n",
       "      <td>2.59</td>\n",
       "      <td>2.87</td>\n",
       "      <td>21.0</td>\n",
       "      <td>118</td>\n",
       "      <td>2.80</td>\n",
       "      <td>2.69</td>\n",
       "      <td>0.39</td>\n",
       "      <td>1.82</td>\n",
       "      <td>4.32</td>\n",
       "      <td>1.04</td>\n",
       "      <td>2.93</td>\n",
       "      <td>735</td>\n",
       "      <td>1</td>\n",
       "    </tr>\n",
       "  </tbody>\n",
       "</table>\n",
       "</div>"
      ],
      "text/plain": [
       "   Alcohol  Malic_Acid   Ash  Ash_Alcanity  Magnesium  Total_Phenols  \\\n",
       "0    14.23        1.71  2.43          15.6        127           2.80   \n",
       "1    13.20        1.78  2.14          11.2        100           2.65   \n",
       "2    13.16        2.36  2.67          18.6        101           2.80   \n",
       "3    14.37        1.95  2.50          16.8        113           3.85   \n",
       "4    13.24        2.59  2.87          21.0        118           2.80   \n",
       "\n",
       "   Flavanoids  Nonflavanoid_Phenols  Proanthocyanins  Color_Intensity   Hue  \\\n",
       "0        3.06                  0.28             2.29             5.64  1.04   \n",
       "1        2.76                  0.26             1.28             4.38  1.05   \n",
       "2        3.24                  0.30             2.81             5.68  1.03   \n",
       "3        3.49                  0.24             2.18             7.80  0.86   \n",
       "4        2.69                  0.39             1.82             4.32  1.04   \n",
       "\n",
       "   OD280  Proline  Customer_Segment  \n",
       "0   3.92     1065                 1  \n",
       "1   3.40     1050                 1  \n",
       "2   3.17     1185                 1  \n",
       "3   3.45     1480                 1  \n",
       "4   2.93      735                 1  "
      ]
     },
     "execution_count": 3,
     "metadata": {},
     "output_type": "execute_result"
    }
   ],
   "source": [
    "df=pd.read_csv(r\"Wine.csv\",header=0)\n",
    "df.head()"
   ]
  },
  {
   "cell_type": "markdown",
   "id": "5014276e",
   "metadata": {},
   "source": [
    "#  Compute and plot those feature which are related to each other"
   ]
  },
  {
   "cell_type": "code",
   "execution_count": 4,
   "id": "916c0649",
   "metadata": {},
   "outputs": [
    {
     "data": {
      "text/plain": [
       "<AxesSubplot:>"
      ]
     },
     "execution_count": 4,
     "metadata": {},
     "output_type": "execute_result"
    },
    {
     "data": {
      "image/png": "[encoded data removed]",
      "text/plain": [
       "<Figure size 1440x720 with 2 Axes>"
      ]
     },
     "metadata": {
      "needs_background": "light"
     },
     "output_type": "display_data"
    }
   ],
   "source": [
    "corr=df.corr()\n",
    "plt.figure(figsize=(20,10))\n",
    "sns.heatmap(corr,vmin=0,vmax=1,cmap=\"Blues\",annot=True)"
   ]
  },
  {
   "cell_type": "markdown",
   "id": "1ffa4635",
   "metadata": {},
   "source": [
    "- Flavanoids has high corelation Total_Phenols and OD280\n",
    "- OD280 has high corelation Total_Phenols and Flavanoids"
   ]
  },
  {
   "cell_type": "markdown",
   "id": "0b220541",
   "metadata": {},
   "source": [
    "#  What are the optimum number of principal components in PCA"
   ]
  },
  {
   "cell_type": "code",
   "execution_count": 5,
   "id": "251e5301",
   "metadata": {},
   "outputs": [
    {
     "data": {
      "text/html": [
       "<div>\n",
       "<style scoped>\n",
       "    .dataframe tbody tr th:only-of-type {\n",
       "        vertical-align: middle;\n",
       "    }\n",
       "\n",
       "    .dataframe tbody tr th {\n",
       "        vertical-align: top;\n",
       "    }\n",
       "\n",
       "    .dataframe thead th {\n",
       "        text-align: right;\n",
       "    }\n",
       "</style>\n",
       "<table border=\"1\" class=\"dataframe\">\n",
       "  <thead>\n",
       "    <tr style=\"text-align: right;\">\n",
       "      <th></th>\n",
       "      <th>Alcohol</th>\n",
       "      <th>Malic_Acid</th>\n",
       "      <th>Ash</th>\n",
       "      <th>Ash_Alcanity</th>\n",
       "      <th>Magnesium</th>\n",
       "      <th>Total_Phenols</th>\n",
       "      <th>Flavanoids</th>\n",
       "      <th>Nonflavanoid_Phenols</th>\n",
       "      <th>Proanthocyanins</th>\n",
       "      <th>Color_Intensity</th>\n",
       "      <th>Hue</th>\n",
       "      <th>OD280</th>\n",
       "      <th>Proline</th>\n",
       "      <th>Customer_Segment</th>\n",
       "    </tr>\n",
       "  </thead>\n",
       "  <tbody>\n",
       "    <tr>\n",
       "      <th>0</th>\n",
       "      <td>14.23</td>\n",
       "      <td>1.71</td>\n",
       "      <td>2.43</td>\n",
       "      <td>15.6</td>\n",
       "      <td>127</td>\n",
       "      <td>2.80</td>\n",
       "      <td>3.06</td>\n",
       "      <td>0.28</td>\n",
       "      <td>2.29</td>\n",
       "      <td>5.64</td>\n",
       "      <td>1.04</td>\n",
       "      <td>3.92</td>\n",
       "      <td>1065</td>\n",
       "      <td>1</td>\n",
       "    </tr>\n",
       "    <tr>\n",
       "      <th>1</th>\n",
       "      <td>13.20</td>\n",
       "      <td>1.78</td>\n",
       "      <td>2.14</td>\n",
       "      <td>11.2</td>\n",
       "      <td>100</td>\n",
       "      <td>2.65</td>\n",
       "      <td>2.76</td>\n",
       "      <td>0.26</td>\n",
       "      <td>1.28</td>\n",
       "      <td>4.38</td>\n",
       "      <td>1.05</td>\n",
       "      <td>3.40</td>\n",
       "      <td>1050</td>\n",
       "      <td>1</td>\n",
       "    </tr>\n",
       "    <tr>\n",
       "      <th>2</th>\n",
       "      <td>13.16</td>\n",
       "      <td>2.36</td>\n",
       "      <td>2.67</td>\n",
       "      <td>18.6</td>\n",
       "      <td>101</td>\n",
       "      <td>2.80</td>\n",
       "      <td>3.24</td>\n",
       "      <td>0.30</td>\n",
       "      <td>2.81</td>\n",
       "      <td>5.68</td>\n",
       "      <td>1.03</td>\n",
       "      <td>3.17</td>\n",
       "      <td>1185</td>\n",
       "      <td>1</td>\n",
       "    </tr>\n",
       "    <tr>\n",
       "      <th>3</th>\n",
       "      <td>14.37</td>\n",
       "      <td>1.95</td>\n",
       "      <td>2.50</td>\n",
       "      <td>16.8</td>\n",
       "      <td>113</td>\n",
       "      <td>3.85</td>\n",
       "      <td>3.49</td>\n",
       "      <td>0.24</td>\n",
       "      <td>2.18</td>\n",
       "      <td>7.80</td>\n",
       "      <td>0.86</td>\n",
       "      <td>3.45</td>\n",
       "      <td>1480</td>\n",
       "      <td>1</td>\n",
       "    </tr>\n",
       "    <tr>\n",
       "      <th>4</th>\n",
       "      <td>13.24</td>\n",
       "      <td>2.59</td>\n",
       "      <td>2.87</td>\n",
       "      <td>21.0</td>\n",
       "      <td>118</td>\n",
       "      <td>2.80</td>\n",
       "      <td>2.69</td>\n",
       "      <td>0.39</td>\n",
       "      <td>1.82</td>\n",
       "      <td>4.32</td>\n",
       "      <td>1.04</td>\n",
       "      <td>2.93</td>\n",
       "      <td>735</td>\n",
       "      <td>1</td>\n",
       "    </tr>\n",
       "  </tbody>\n",
       "</table>\n",
       "</div>"
      ],
      "text/plain": [
       "   Alcohol  Malic_Acid   Ash  Ash_Alcanity  Magnesium  Total_Phenols  \\\n",
       "0    14.23        1.71  2.43          15.6        127           2.80   \n",
       "1    13.20        1.78  2.14          11.2        100           2.65   \n",
       "2    13.16        2.36  2.67          18.6        101           2.80   \n",
       "3    14.37        1.95  2.50          16.8        113           3.85   \n",
       "4    13.24        2.59  2.87          21.0        118           2.80   \n",
       "\n",
       "   Flavanoids  Nonflavanoid_Phenols  Proanthocyanins  Color_Intensity   Hue  \\\n",
       "0        3.06                  0.28             2.29             5.64  1.04   \n",
       "1        2.76                  0.26             1.28             4.38  1.05   \n",
       "2        3.24                  0.30             2.81             5.68  1.03   \n",
       "3        3.49                  0.24             2.18             7.80  0.86   \n",
       "4        2.69                  0.39             1.82             4.32  1.04   \n",
       "\n",
       "   OD280  Proline  Customer_Segment  \n",
       "0   3.92     1065                 1  \n",
       "1   3.40     1050                 1  \n",
       "2   3.17     1185                 1  \n",
       "3   3.45     1480                 1  \n",
       "4   2.93      735                 1  "
      ]
     },
     "execution_count": 5,
     "metadata": {},
     "output_type": "execute_result"
    }
   ],
   "source": [
    "df.head()"
   ]
  },
  {
   "cell_type": "code",
   "execution_count": 27,
   "id": "ba964c3b",
   "metadata": {},
   "outputs": [],
   "source": [
    "x=df.drop(['Customer_Segment'],axis=1) # independent variable\n",
    "y=df['Customer_Segment']    # dependent variable"
   ]
  },
  {
   "cell_type": "code",
   "execution_count": 7,
   "id": "091ae10d",
   "metadata": {},
   "outputs": [
    {
     "data": {
      "text/plain": [
       "(178, 13)"
      ]
     },
     "execution_count": 7,
     "metadata": {},
     "output_type": "execute_result"
    }
   ],
   "source": [
    "x.shape"
   ]
  },
  {
   "cell_type": "code",
   "execution_count": 8,
   "id": "c1e29906",
   "metadata": {},
   "outputs": [
    {
     "data": {
      "text/plain": [
       "(178,)"
      ]
     },
     "execution_count": 8,
     "metadata": {},
     "output_type": "execute_result"
    }
   ],
   "source": [
    "y.shape"
   ]
  },
  {
   "cell_type": "code",
   "execution_count": 28,
   "id": "a85c6510",
   "metadata": {},
   "outputs": [],
   "source": [
    "# Making the data in same range -3 to +3\n",
    "from sklearn.preprocessing import StandardScaler\n",
    "scaler=StandardScaler()\n",
    "x=scaler.fit_transform(x)"
   ]
  },
  {
   "cell_type": "code",
   "execution_count": 29,
   "id": "6b3f2984",
   "metadata": {},
   "outputs": [],
   "source": [
    "# splitting ther data in train and test\n",
    "from sklearn.model_selection import train_test_split\n",
    "x_train,x_test,y_train,y_test=train_test_split(x,y,test_size=0.2,random_state=10)"
   ]
  },
  {
   "cell_type": "code",
   "execution_count": 11,
   "id": "1d32f4b9",
   "metadata": {},
   "outputs": [
    {
     "name": "stdout",
     "output_type": "stream",
     "text": [
      "[0.37156174 0.2019533  0.10959523 0.06202959 0.05758885 0.05272733\n",
      " 0.03940884 0.02534848 0.0211269  0.01982826 0.0180694  0.01202182\n",
      " 0.00874027]\n"
     ]
    }
   ],
   "source": [
    "# appling PCA\n",
    "from sklearn.decomposition import PCA\n",
    "pca=PCA(n_components=None)\n",
    "x_train=pca.fit_transform(x_train)\n",
    "x_test=pca.transform(x_test)\n",
    "explained_variance=pca.explained_variance_ratio_\n",
    "print(explained_variance)"
   ]
  },
  {
   "cell_type": "markdown",
   "id": "18f75f0c",
   "metadata": {},
   "source": [
    "- output of PCA will give the how much import is the variable \n",
    "- so will building the model we will consider only that variable "
   ]
  },
  {
   "cell_type": "code",
   "execution_count": 12,
   "id": "3e3dec49",
   "metadata": {},
   "outputs": [
    {
     "data": {
      "text/plain": [
       "0.9413402599999999"
      ]
     },
     "execution_count": 12,
     "metadata": {},
     "output_type": "execute_result"
    }
   ],
   "source": [
    "0.37156174+0.2019533+0.10959523+0.06202959+0.05758885+0.05272733+0.03940884+0.02534848+0.0211269\n"
   ]
  },
  {
   "cell_type": "code",
   "execution_count": 13,
   "id": "a8473bc8",
   "metadata": {},
   "outputs": [
    {
     "name": "stdout",
     "output_type": "stream",
     "text": [
      "[0.37156174 0.2019533  0.10959523 0.06202959 0.05758885 0.05272733\n",
      " 0.03940884 0.02534848 0.0211269  0.01982826]\n"
     ]
    }
   ],
   "source": [
    "# appling PCA\n",
    "from sklearn.decomposition import PCA\n",
    "pca=PCA(n_components=0.95)\n",
    "x_train=pca.fit_transform(x_train)\n",
    "x_test=pca.transform(x_test)\n",
    "explained_variance=pca.explained_variance_ratio_\n",
    "print(explained_variance)"
   ]
  },
  {
   "cell_type": "code",
   "execution_count": 30,
   "id": "c9ffeecd",
   "metadata": {},
   "outputs": [
    {
     "data": {
      "text/plain": [
       "10"
      ]
     },
     "execution_count": 30,
     "metadata": {},
     "output_type": "execute_result"
    }
   ],
   "source": [
    "pca.n_components_ # According to the PCA only 10 variable will give the good result "
   ]
  },
  {
   "cell_type": "markdown",
   "id": "717ceb6f",
   "metadata": {},
   "source": [
    "#  Build a KNN classifier considering optimal number of principal components and value of K and state its score. "
   ]
  },
  {
   "cell_type": "code",
   "execution_count": 15,
   "id": "cd758a70",
   "metadata": {},
   "outputs": [
    {
     "name": "stdout",
     "output_type": "stream",
     "text": [
      "accuracy is 0.9166666666666666 for k-value: 1\n",
      "accuracy is 0.9166666666666666 for k-value: 2\n",
      "accuracy is 0.9444444444444444 for k-value: 3\n",
      "accuracy is 0.9166666666666666 for k-value: 4\n",
      "accuracy is 0.9166666666666666 for k-value: 5\n",
      "accuracy is 0.9444444444444444 for k-value: 6\n",
      "accuracy is 0.9166666666666666 for k-value: 7\n",
      "accuracy is 0.9166666666666666 for k-value: 8\n",
      "accuracy is 0.9444444444444444 for k-value: 9\n",
      "accuracy is 0.9166666666666666 for k-value: 10\n",
      "accuracy is 0.9444444444444444 for k-value: 11\n",
      "accuracy is 0.9444444444444444 for k-value: 12\n",
      "accuracy is 0.9444444444444444 for k-value: 13\n",
      "accuracy is 0.9444444444444444 for k-value: 14\n",
      "accuracy is 0.9444444444444444 for k-value: 15\n",
      "accuracy is 0.9444444444444444 for k-value: 16\n",
      "accuracy is 0.9444444444444444 for k-value: 17\n",
      "accuracy is 0.9444444444444444 for k-value: 18\n",
      "accuracy is 0.9444444444444444 for k-value: 19\n",
      "accuracy is 0.9444444444444444 for k-value: 20\n",
      "accuracy is 0.8888888888888888 for k-value: 21\n",
      "accuracy is 0.8888888888888888 for k-value: 22\n",
      "accuracy is 0.8888888888888888 for k-value: 23\n",
      "accuracy is 0.9166666666666666 for k-value: 24\n",
      "accuracy is 0.8888888888888888 for k-value: 25\n",
      "accuracy is 0.9722222222222222 for k-value: 26\n",
      "accuracy is 0.9722222222222222 for k-value: 27\n",
      "accuracy is 0.9722222222222222 for k-value: 28\n",
      "accuracy is 0.9722222222222222 for k-value: 29\n",
      "accuracy is 0.9722222222222222 for k-value: 30\n"
     ]
    }
   ],
   "source": [
    "from sklearn.metrics import accuracy_score\n",
    "from sklearn.neighbors import KNeighborsClassifier\n",
    "my_dict={}\n",
    "for k in range(1,31):\n",
    "    model_KNN=KNeighborsClassifier(n_neighbors=k,metric='euclidean')\n",
    "    model_KNN.fit(x_train,y_train)\n",
    "    y_pred=model_KNN.predict(x_test)\n",
    "    print(\"accuracy is\", accuracy_score(y_test,y_pred),'for k-value:', k)\n",
    "    my_dict[k]=accuracy_score(y_test,y_pred)"
   ]
  },
  {
   "cell_type": "code",
   "execution_count": 16,
   "id": "fe503778",
   "metadata": {},
   "outputs": [
    {
     "name": "stdout",
     "output_type": "stream",
     "text": [
      "26 : 0.9722222222222222\n",
      "27 : 0.9722222222222222\n",
      "28 : 0.9722222222222222\n",
      "29 : 0.9722222222222222\n",
      "30 : 0.9722222222222222\n"
     ]
    }
   ],
   "source": [
    "for i in my_dict:\n",
    "    if my_dict[i]==max(my_dict.values()): # to get the best k value\n",
    "        print(i,\":\",my_dict[i])"
   ]
  },
  {
   "cell_type": "code",
   "execution_count": 17,
   "id": "f73304c5",
   "metadata": {},
   "outputs": [
    {
     "data": {
      "text/plain": [
       "KNeighborsClassifier(metric='euclidean', n_neighbors=26)"
      ]
     },
     "execution_count": 17,
     "metadata": {},
     "output_type": "execute_result"
    }
   ],
   "source": [
    "from sklearn.neighbors import KNeighborsClassifier\n",
    "model_KNN=KNeighborsClassifier(n_neighbors=26,metric='euclidean')\n",
    "model_KNN.fit(x_train,y_train)"
   ]
  },
  {
   "cell_type": "code",
   "execution_count": 18,
   "id": "4295c2f8",
   "metadata": {},
   "outputs": [],
   "source": [
    "y_pred2=model_KNN.predict(x_test)"
   ]
  },
  {
   "cell_type": "code",
   "execution_count": 19,
   "id": "ad41965f",
   "metadata": {},
   "outputs": [
    {
     "name": "stdout",
     "output_type": "stream",
     "text": [
      "[[10  0  0]\n",
      " [ 0 17  1]\n",
      " [ 0  0  8]]\n",
      "classification_report:\n",
      "              precision    recall  f1-score   support\n",
      "\n",
      "           1       1.00      1.00      1.00        10\n",
      "           2       1.00      0.94      0.97        18\n",
      "           3       0.89      1.00      0.94         8\n",
      "\n",
      "    accuracy                           0.97        36\n",
      "   macro avg       0.96      0.98      0.97        36\n",
      "weighted avg       0.98      0.97      0.97        36\n",
      "\n",
      "accuracy of the model:  97.22222222222221\n"
     ]
    }
   ],
   "source": [
    "from sklearn.metrics import confusion_matrix, accuracy_score, classification_report\n",
    "cfm=confusion_matrix(y_test,y_pred2)\n",
    "print(cfm)\n",
    "\n",
    "print(\"classification_report:\")\n",
    "\n",
    "print(classification_report(y_test,y_pred2))\n",
    "\n",
    "acc=accuracy_score(y_test,y_pred2)\n",
    "print(\"accuracy of the model: \",acc*100)"
   ]
  },
  {
   "cell_type": "markdown",
   "id": "09a3c103",
   "metadata": {},
   "source": [
    "#  Accuracy of the model 97.22%"
   ]
  },
  {
   "cell_type": "markdown",
   "id": "035ac826",
   "metadata": {},
   "source": [
    "# SVM (Support Vector Machine)"
   ]
  },
  {
   "cell_type": "code",
   "execution_count": 20,
   "id": "bfdf624f",
   "metadata": {},
   "outputs": [
    {
     "name": "stdout",
     "output_type": "stream",
     "text": [
      "[2, 2, 1, 2, 1, 2, 2, 1, 3, 1, 1, 2, 1, 3, 2, 2, 3, 2, 2, 3, 1, 3, 1, 1, 2, 3, 3, 3, 2, 2, 3, 3, 2, 3, 2, 1]\n"
     ]
    }
   ],
   "source": [
    "# fitting svm to the dataset\n",
    "from sklearn.svm import SVC\n",
    "svc_model=SVC(kernel='rbf',C=10,gamma=0.1)\n",
    "svc_model.fit(x_train,y_train)\n",
    "y_pred=svc_model.predict(x_test)\n",
    "print(list(y_pred))"
   ]
  },
  {
   "cell_type": "code",
   "execution_count": 21,
   "id": "0196101b",
   "metadata": {},
   "outputs": [
    {
     "name": "stdout",
     "output_type": "stream",
     "text": [
      "[[10  0  0]\n",
      " [ 0 15  3]\n",
      " [ 0  0  8]]\n",
      "              precision    recall  f1-score   support\n",
      "\n",
      "           1       1.00      1.00      1.00        10\n",
      "           2       1.00      0.83      0.91        18\n",
      "           3       0.73      1.00      0.84         8\n",
      "\n",
      "    accuracy                           0.92        36\n",
      "   macro avg       0.91      0.94      0.92        36\n",
      "weighted avg       0.94      0.92      0.92        36\n",
      "\n",
      "0.9166666666666666\n"
     ]
    }
   ],
   "source": [
    "from sklearn.metrics import confusion_matrix,classification_report,accuracy_score\n",
    "#y_pred_new=svc_model.predict(x_test)\n",
    "print(confusion_matrix(y_test,y_pred))\n",
    "print(classification_report(y_test,y_pred))\n",
    "print(accuracy_score(y_test,y_pred))"
   ]
  },
  {
   "cell_type": "markdown",
   "id": "41777f96",
   "metadata": {},
   "source": [
    "# Accuracy of the model 91.66% "
   ]
  },
  {
   "cell_type": "markdown",
   "id": "bda7764e",
   "metadata": {},
   "source": [
    "# Hyperparameters Tunning"
   ]
  },
  {
   "cell_type": "code",
   "execution_count": 22,
   "id": "cbf83412",
   "metadata": {},
   "outputs": [
    {
     "name": "stdout",
     "output_type": "stream",
     "text": [
      "[2, 2, 1, 2, 1, 2, 2, 1, 3, 1, 1, 2, 1, 3, 2, 2, 3, 2, 2, 3, 1, 3, 1, 1, 2, 3, 2, 3, 2, 2, 3, 3, 2, 3, 2, 1]\n"
     ]
    }
   ],
   "source": [
    "# fitting svm to the dataset\n",
    "from sklearn.svm import SVC\n",
    "svc_model=SVC(kernel='rbf',C=1,gamma=0.1)\n",
    "svc_model.fit(x_train,y_train)\n",
    "y_pred=svc_model.predict(x_test)\n",
    "print(list(y_pred))"
   ]
  },
  {
   "cell_type": "code",
   "execution_count": 23,
   "id": "5472935d",
   "metadata": {},
   "outputs": [
    {
     "name": "stdout",
     "output_type": "stream",
     "text": [
      "[[10  0  0]\n",
      " [ 0 16  2]\n",
      " [ 0  0  8]]\n",
      "              precision    recall  f1-score   support\n",
      "\n",
      "           1       1.00      1.00      1.00        10\n",
      "           2       1.00      0.89      0.94        18\n",
      "           3       0.80      1.00      0.89         8\n",
      "\n",
      "    accuracy                           0.94        36\n",
      "   macro avg       0.93      0.96      0.94        36\n",
      "weighted avg       0.96      0.94      0.95        36\n",
      "\n",
      "0.9444444444444444\n"
     ]
    }
   ],
   "source": [
    "from sklearn.metrics import confusion_matrix,classification_report,accuracy_score\n",
    "#y_pred_new=svc_model.predict(x_test)\n",
    "print(confusion_matrix(y_test,y_pred))\n",
    "print(classification_report(y_test,y_pred))\n",
    "print(accuracy_score(y_test,y_pred))"
   ]
  },
  {
   "cell_type": "markdown",
   "id": "f37ce60c",
   "metadata": {},
   "source": [
    "# After Hyperparameter tuning the accuracy of the model is increase\n",
    "# Accuracy of the model is 94.44%  "
   ]
  },
  {
   "cell_type": "markdown",
   "id": "ced0f154",
   "metadata": {},
   "source": [
    "#  Naive Bayes Classifier  "
   ]
  },
  {
   "cell_type": "code",
   "execution_count": 24,
   "id": "2a3a64e1",
   "metadata": {},
   "outputs": [],
   "source": [
    "from sklearn.naive_bayes import GaussianNB\n",
    "model_NB=GaussianNB()\n",
    "model_NB.fit(x_train,y_train)\n",
    "y_pred=model_NB.predict(x_test)"
   ]
  },
  {
   "cell_type": "code",
   "execution_count": 25,
   "id": "ee5fe8e7",
   "metadata": {},
   "outputs": [
    {
     "name": "stdout",
     "output_type": "stream",
     "text": [
      "[[10  0  0]\n",
      " [ 0 17  1]\n",
      " [ 0  0  8]]\n",
      "classification_report:\n",
      "              precision    recall  f1-score   support\n",
      "\n",
      "           1       1.00      1.00      1.00        10\n",
      "           2       1.00      0.94      0.97        18\n",
      "           3       0.89      1.00      0.94         8\n",
      "\n",
      "    accuracy                           0.97        36\n",
      "   macro avg       0.96      0.98      0.97        36\n",
      "weighted avg       0.98      0.97      0.97        36\n",
      "\n",
      "accuracy of the model:  97.22222222222221\n"
     ]
    }
   ],
   "source": [
    "from sklearn.metrics import confusion_matrix, accuracy_score, classification_report\n",
    "cfm=confusion_matrix(y_test,y_pred)\n",
    "print(cfm)\n",
    "\n",
    "print(\"classification_report:\")\n",
    "\n",
    "print(classification_report(y_test,y_pred))\n",
    "\n",
    "acc=accuracy_score(y_test,y_pred)*100\n",
    "print(\"accuracy of the model: \",acc)"
   ]
  },
  {
   "cell_type": "markdown",
   "id": "c27c0150",
   "metadata": {},
   "source": [
    "# Accuracy of the model  97.22% "
   ]
  },
  {
   "cell_type": "markdown",
   "id": "6fb69575",
   "metadata": {},
   "source": [
    "# Compare all of the models and justify  the optimum model. "
   ]
  },
  {
   "cell_type": "markdown",
   "id": "a474da7c",
   "metadata": {},
   "source": [
    " - KNN and Naive Bayes Classifier has same accuracy of 97.22%\n",
    " - Type 2 error has is zero in both the algorithm\n",
    " - It has only one Type 1 error\n",
    " - But Naive Bayes Classifier will give us tha probability of the Classes\n",
    " - So on that Basis we can chose either KNN or Naive Bayes Classifier"
   ]
  },
  {
   "cell_type": "markdown",
   "id": "6a6de2d1",
   "metadata": {},
   "source": [
    "# Finish "
   ]
  }
 ],
 "metadata": {
  "kernelspec": {
   "display_name": "Python 3 (ipykernel)",
   "language": "python",
   "name": "python3"
  },
  "language_info": {
   "codemirror_mode": {
    "name": "ipython",
    "version": 3
   },
   "file_extension": ".py",
   "mimetype": "text/x-python",
   "name": "python",
   "nbconvert_exporter": "python",
   "pygments_lexer": "ipython3",
   "version": "3.9.7"
  }
 },
 "nbformat": 4,
 "nbformat_minor": 5
}
